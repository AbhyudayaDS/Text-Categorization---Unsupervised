{
 "cells": [
  {
   "cell_type": "code",
   "execution_count": 1,
   "metadata": {},
   "outputs": [],
   "source": [
    "#importing libraries\n",
    "import pandas as pd #to handle data\n",
    "import numpy as np # for basic statistical operations\n",
    "import warnings\n",
    "import warnings\n",
    "warnings.filterwarnings(\"ignore\")"
   ]
  },
  {
   "cell_type": "code",
   "execution_count": 2,
   "metadata": {},
   "outputs": [],
   "source": [
    "#loading the dataset\n",
    "df = pd.read_csv('/home/ANANT/ajadhav/CategorizeUserReviews/out.csv',sep='delimiter')"
   ]
  },
  {
   "cell_type": "code",
   "execution_count": 3,
   "metadata": {},
   "outputs": [],
   "source": [
    "#renaming the column name\n",
    "df.columns = ['Text']\n",
    "#removing the numbers\n",
    "df.Text = df.Text.str.replace('\\d+', '')\n",
    "#removing the tab signs\n",
    "df.Text = df.Text.map(lambda x: x.lstrip('\\t').rstrip('aAbBcC'))"
   ]
  },
  {
   "cell_type": "code",
   "execution_count": 4,
   "metadata": {},
   "outputs": [],
   "source": [
    "#creating disctinary to get cosine distance\n",
    "Categories = ['costly expensive high big','easy to use feasible adaptable','good quality best awesome better','cheap low economical affordable']\n",
    "\n",
    "#column names to additional columns\n",
    "CategoryCol = ['Costly','Easy_to_Use','Good_Quality','Cheap']"
   ]
  },
  {
   "cell_type": "code",
   "execution_count": 5,
   "metadata": {},
   "outputs": [
    {
     "data": {
      "text/html": [
       "<div>\n",
       "<style scoped>\n",
       "    .dataframe tbody tr th:only-of-type {\n",
       "        vertical-align: middle;\n",
       "    }\n",
       "\n",
       "    .dataframe tbody tr th {\n",
       "        vertical-align: top;\n",
       "    }\n",
       "\n",
       "    .dataframe thead th {\n",
       "        text-align: right;\n",
       "    }\n",
       "</style>\n",
       "<table border=\"1\" class=\"dataframe\">\n",
       "  <thead>\n",
       "    <tr style=\"text-align: right;\">\n",
       "      <th></th>\n",
       "      <th>Text</th>\n",
       "    </tr>\n",
       "  </thead>\n",
       "  <tbody>\n",
       "    <tr>\n",
       "      <th>0</th>\n",
       "      <td>Very oily and creamy. Not at all what I expect...</td>\n",
       "    </tr>\n",
       "    <tr>\n",
       "      <th>1</th>\n",
       "      <td>This palette was a decent price and I was look...</td>\n",
       "    </tr>\n",
       "    <tr>\n",
       "      <th>2</th>\n",
       "      <td>The texture of this concealer pallet is fantas...</td>\n",
       "    </tr>\n",
       "    <tr>\n",
       "      <th>3</th>\n",
       "      <td>I really can't tell what exactly this thing is...</td>\n",
       "    </tr>\n",
       "    <tr>\n",
       "      <th>4</th>\n",
       "      <td>It was a little smaller than I expected, but t...</td>\n",
       "    </tr>\n",
       "  </tbody>\n",
       "</table>\n",
       "</div>"
      ],
      "text/plain": [
       "                                                Text\n",
       "0  Very oily and creamy. Not at all what I expect...\n",
       "1  This palette was a decent price and I was look...\n",
       "2  The texture of this concealer pallet is fantas...\n",
       "3  I really can't tell what exactly this thing is...\n",
       "4  It was a little smaller than I expected, but t..."
      ]
     },
     "execution_count": 5,
     "metadata": {},
     "output_type": "execute_result"
    }
   ],
   "source": [
    "#snippet of the dataset\n",
    "df.head()"
   ]
  },
  {
   "cell_type": "code",
   "execution_count": 6,
   "metadata": {},
   "outputs": [],
   "source": [
    "#this function is calculation cosine distance from each category to review\n",
    "import re, math\n",
    "from collections import Counter\n",
    "\n",
    "WORD = re.compile(r'\\w+')\n",
    "\n",
    "def get_cosine(vec1, vec2):\n",
    "     intersection = set(vec1.keys()) & set(vec2.keys())\n",
    "     numerator = sum([vec1[x] * vec2[x] for x in intersection])\n",
    "\n",
    "     sum1 = sum([vec1[x]**2 for x in vec1.keys()])\n",
    "     sum2 = sum([vec2[x]**2 for x in vec2.keys()])\n",
    "     denominator = math.sqrt(sum1) * math.sqrt(sum2)\n",
    "\n",
    "     if not denominator:\n",
    "        return 0.0\n",
    "     else:\n",
    "        return float(numerator) / denominator\n",
    "\n",
    "def text_to_vector(text):\n",
    "     words = WORD.findall(text)\n",
    "     return Counter(words)\n",
    "\n",
    "\n",
    "def LoopCalc(Temp):\n",
    "    vector1 = text_to_vector(Temp)\n",
    "    Cat0 = text_to_vector(Categories[0])\n",
    "    Cat1 = text_to_vector(Categories[1])\n",
    "    Cat2 = text_to_vector(Categories[2])\n",
    "    Cat3 = text_to_vector(Categories[3])\n",
    "\n",
    "    cosine0 = get_cosine(vector1, Cat0)\n",
    "    cosine1 = get_cosine(vector1, Cat1)\n",
    "    cosine2 = get_cosine(vector1, Cat2)\n",
    "    cosine3 = get_cosine(vector1, Cat3)\n",
    "    return cosine0,cosine1,cosine2,cosine3\n",
    "\n"
   ]
  },
  {
   "cell_type": "code",
   "execution_count": 7,
   "metadata": {},
   "outputs": [],
   "source": [
    "#converting output to a dataframe\n",
    "StackValues =  df.Text.apply(lambda x: LoopCalc(x))"
   ]
  },
  {
   "cell_type": "code",
   "execution_count": 8,
   "metadata": {},
   "outputs": [],
   "source": [
    "#merging the ooutput to text data\n",
    "CosineProbabilites = pd.DataFrame(np.column_stack(list(zip(*StackValues))), columns=CategoryCol)\n",
    "ReviewWithCosine = pd.concat([df, CosineProbabilites], axis=1, sort=False)"
   ]
  },
  {
   "cell_type": "code",
   "execution_count": 9,
   "metadata": {},
   "outputs": [],
   "source": [
    "#Some reviews are neutral means they are not falling in any category\n",
    "ReviewWithCosine['Neutral'] = ReviewWithCosine.iloc[:,1:].sum(axis=1)<=0\n",
    "ReviewWithCosine.Neutral = ReviewWithCosine.Neutral*1"
   ]
  },
  {
   "cell_type": "code",
   "execution_count": 10,
   "metadata": {},
   "outputs": [
    {
     "data": {
      "text/html": [
       "<div>\n",
       "<style scoped>\n",
       "    .dataframe tbody tr th:only-of-type {\n",
       "        vertical-align: middle;\n",
       "    }\n",
       "\n",
       "    .dataframe tbody tr th {\n",
       "        vertical-align: top;\n",
       "    }\n",
       "\n",
       "    .dataframe thead th {\n",
       "        text-align: right;\n",
       "    }\n",
       "</style>\n",
       "<table border=\"1\" class=\"dataframe\">\n",
       "  <thead>\n",
       "    <tr style=\"text-align: right;\">\n",
       "      <th></th>\n",
       "      <th>Text</th>\n",
       "      <th>Costly</th>\n",
       "      <th>Easy_to_Use</th>\n",
       "      <th>Good_Quality</th>\n",
       "      <th>Cheap</th>\n",
       "      <th>Neutral</th>\n",
       "    </tr>\n",
       "  </thead>\n",
       "  <tbody>\n",
       "    <tr>\n",
       "      <th>0</th>\n",
       "      <td>Very oily and creamy. Not at all what I expect...</td>\n",
       "      <td>0.0</td>\n",
       "      <td>0.200000</td>\n",
       "      <td>0.000000</td>\n",
       "      <td>0.000000</td>\n",
       "      <td>0</td>\n",
       "    </tr>\n",
       "    <tr>\n",
       "      <th>1</th>\n",
       "      <td>This palette was a decent price and I was look...</td>\n",
       "      <td>0.0</td>\n",
       "      <td>0.000000</td>\n",
       "      <td>0.000000</td>\n",
       "      <td>0.000000</td>\n",
       "      <td>1</td>\n",
       "    </tr>\n",
       "    <tr>\n",
       "      <th>2</th>\n",
       "      <td>The texture of this concealer pallet is fantas...</td>\n",
       "      <td>0.0</td>\n",
       "      <td>0.081349</td>\n",
       "      <td>0.027116</td>\n",
       "      <td>0.000000</td>\n",
       "      <td>0</td>\n",
       "    </tr>\n",
       "    <tr>\n",
       "      <th>3</th>\n",
       "      <td>I really can't tell what exactly this thing is...</td>\n",
       "      <td>0.0</td>\n",
       "      <td>0.000000</td>\n",
       "      <td>0.000000</td>\n",
       "      <td>0.000000</td>\n",
       "      <td>1</td>\n",
       "    </tr>\n",
       "    <tr>\n",
       "      <th>4</th>\n",
       "      <td>It was a little smaller than I expected, but t...</td>\n",
       "      <td>0.0</td>\n",
       "      <td>0.080000</td>\n",
       "      <td>0.000000</td>\n",
       "      <td>0.044721</td>\n",
       "      <td>0</td>\n",
       "    </tr>\n",
       "  </tbody>\n",
       "</table>\n",
       "</div>"
      ],
      "text/plain": [
       "                                                Text  Costly  Easy_to_Use  \\\n",
       "0  Very oily and creamy. Not at all what I expect...     0.0     0.200000   \n",
       "1  This palette was a decent price and I was look...     0.0     0.000000   \n",
       "2  The texture of this concealer pallet is fantas...     0.0     0.081349   \n",
       "3  I really can't tell what exactly this thing is...     0.0     0.000000   \n",
       "4  It was a little smaller than I expected, but t...     0.0     0.080000   \n",
       "\n",
       "   Good_Quality     Cheap  Neutral  \n",
       "0      0.000000  0.000000        0  \n",
       "1      0.000000  0.000000        1  \n",
       "2      0.027116  0.000000        0  \n",
       "3      0.000000  0.000000        1  \n",
       "4      0.000000  0.044721        0  "
      ]
     },
     "execution_count": 10,
     "metadata": {},
     "output_type": "execute_result"
    }
   ],
   "source": [
    "#snippet of final dataset\n",
    "ReviewWithCosine.head()"
   ]
  },
  {
   "cell_type": "code",
   "execution_count": 11,
   "metadata": {},
   "outputs": [],
   "source": [
    "#converting cosine distances to binary format ie. 1 and zero\n",
    "b = np.zeros_like(ReviewWithCosine.iloc[:,1:6])\n",
    "b[np.arange(len(ReviewWithCosine.iloc[:,1:6])), ReviewWithCosine.iloc[:,1:6].values.argmax(1)] = 1\n",
    "ReviewWithCosine.iloc[:,1:6] = b"
   ]
  },
  {
   "cell_type": "code",
   "execution_count": 12,
   "metadata": {},
   "outputs": [
    {
     "data": {
      "text/html": [
       "<div>\n",
       "<style scoped>\n",
       "    .dataframe tbody tr th:only-of-type {\n",
       "        vertical-align: middle;\n",
       "    }\n",
       "\n",
       "    .dataframe tbody tr th {\n",
       "        vertical-align: top;\n",
       "    }\n",
       "\n",
       "    .dataframe thead th {\n",
       "        text-align: right;\n",
       "    }\n",
       "</style>\n",
       "<table border=\"1\" class=\"dataframe\">\n",
       "  <thead>\n",
       "    <tr style=\"text-align: right;\">\n",
       "      <th></th>\n",
       "      <th>Text</th>\n",
       "      <th>Costly</th>\n",
       "      <th>Easy_to_Use</th>\n",
       "      <th>Good_Quality</th>\n",
       "      <th>Cheap</th>\n",
       "      <th>Neutral</th>\n",
       "    </tr>\n",
       "  </thead>\n",
       "  <tbody>\n",
       "    <tr>\n",
       "      <th>0</th>\n",
       "      <td>Very oily and creamy. Not at all what I expect...</td>\n",
       "      <td>0.0</td>\n",
       "      <td>1.0</td>\n",
       "      <td>0.0</td>\n",
       "      <td>0.0</td>\n",
       "      <td>0.0</td>\n",
       "    </tr>\n",
       "    <tr>\n",
       "      <th>1</th>\n",
       "      <td>This palette was a decent price and I was look...</td>\n",
       "      <td>0.0</td>\n",
       "      <td>0.0</td>\n",
       "      <td>0.0</td>\n",
       "      <td>0.0</td>\n",
       "      <td>1.0</td>\n",
       "    </tr>\n",
       "    <tr>\n",
       "      <th>2</th>\n",
       "      <td>The texture of this concealer pallet is fantas...</td>\n",
       "      <td>0.0</td>\n",
       "      <td>1.0</td>\n",
       "      <td>0.0</td>\n",
       "      <td>0.0</td>\n",
       "      <td>0.0</td>\n",
       "    </tr>\n",
       "    <tr>\n",
       "      <th>3</th>\n",
       "      <td>I really can't tell what exactly this thing is...</td>\n",
       "      <td>0.0</td>\n",
       "      <td>0.0</td>\n",
       "      <td>0.0</td>\n",
       "      <td>0.0</td>\n",
       "      <td>1.0</td>\n",
       "    </tr>\n",
       "    <tr>\n",
       "      <th>4</th>\n",
       "      <td>It was a little smaller than I expected, but t...</td>\n",
       "      <td>0.0</td>\n",
       "      <td>1.0</td>\n",
       "      <td>0.0</td>\n",
       "      <td>0.0</td>\n",
       "      <td>0.0</td>\n",
       "    </tr>\n",
       "  </tbody>\n",
       "</table>\n",
       "</div>"
      ],
      "text/plain": [
       "                                                Text  Costly  Easy_to_Use  \\\n",
       "0  Very oily and creamy. Not at all what I expect...     0.0          1.0   \n",
       "1  This palette was a decent price and I was look...     0.0          0.0   \n",
       "2  The texture of this concealer pallet is fantas...     0.0          1.0   \n",
       "3  I really can't tell what exactly this thing is...     0.0          0.0   \n",
       "4  It was a little smaller than I expected, but t...     0.0          1.0   \n",
       "\n",
       "   Good_Quality  Cheap  Neutral  \n",
       "0           0.0    0.0      0.0  \n",
       "1           0.0    0.0      1.0  \n",
       "2           0.0    0.0      0.0  \n",
       "3           0.0    0.0      1.0  \n",
       "4           0.0    0.0      0.0  "
      ]
     },
     "execution_count": 12,
     "metadata": {},
     "output_type": "execute_result"
    }
   ],
   "source": [
    "#updated snippte of the dataset\n",
    "ReviewWithCosine.head()"
   ]
  },
  {
   "cell_type": "code",
   "execution_count": 13,
   "metadata": {},
   "outputs": [],
   "source": [
    "#saving categoriees and text to csv file\n",
    "ReviewWithCosine.to_csv('ReviewsWithCategory.csv',index=False)"
   ]
  },
  {
   "cell_type": "code",
   "execution_count": 14,
   "metadata": {},
   "outputs": [],
   "source": [
    "#converting text data into numeric format\n",
    "from sklearn.feature_extraction.text import TfidfVectorizer\n",
    "from nltk.corpus import stopwords\n",
    "stop = set(stopwords.words('english'))\n",
    "transformer  = TfidfVectorizer(lowercase= True,stop_words=stop,max_features=500)\n",
    "X = transformer.fit_transform(ReviewWithCosine.Text)"
   ]
  },
  {
   "cell_type": "code",
   "execution_count": 15,
   "metadata": {},
   "outputs": [],
   "source": [
    "#splitting into train and test 75 and 25%\n",
    "from sklearn.model_selection import train_test_split\n",
    "X_train, X_test, y_train, y_test = train_test_split(X,ReviewWithCosine.iloc[:,1:6],test_size = 0.25,\n",
    "                                                   random_state = 42)\n"
   ]
  },
  {
   "cell_type": "code",
   "execution_count": 16,
   "metadata": {},
   "outputs": [],
   "source": [
    "#building a classification model\n",
    "from sklearn.ensemble import RandomForestClassifier\n",
    "model = RandomForestClassifier()"
   ]
  },
  {
   "cell_type": "code",
   "execution_count": 17,
   "metadata": {},
   "outputs": [
    {
     "data": {
      "text/plain": [
       "RandomForestClassifier(bootstrap=True, class_weight=None, criterion='gini',\n",
       "            max_depth=None, max_features='auto', max_leaf_nodes=None,\n",
       "            min_impurity_decrease=0.0, min_impurity_split=None,\n",
       "            min_samples_leaf=1, min_samples_split=2,\n",
       "            min_weight_fraction_leaf=0.0, n_estimators=10, n_jobs=None,\n",
       "            oob_score=False, random_state=None, verbose=0,\n",
       "            warm_start=False)"
      ]
     },
     "execution_count": 17,
     "metadata": {},
     "output_type": "execute_result"
    }
   ],
   "source": [
    "#fiting our data on the model\n",
    "model.fit(X_train,y_train)"
   ]
  },
  {
   "cell_type": "code",
   "execution_count": 18,
   "metadata": {},
   "outputs": [],
   "source": [
    "#predicting model on test data\n",
    "y_pred = model.predict(X_test)"
   ]
  },
  {
   "cell_type": "code",
   "execution_count": 19,
   "metadata": {},
   "outputs": [
    {
     "data": {
      "text/plain": [
       "array([[  889,   486,    12,     0,     5],\n",
       "       [ 2908, 29783,   509,    30,  1370],\n",
       "       [ 1598,  1738,  1687,     3,    17],\n",
       "       [  205,   222,    21,   180,    37],\n",
       "       [ 1659,  2720,   161,     9,  3377]])"
      ]
     },
     "execution_count": 19,
     "metadata": {},
     "output_type": "execute_result"
    }
   ],
   "source": [
    "#validating the results with confusion matrix\n",
    "from sklearn.metrics import confusion_matrix,accuracy_score,f1_score\n",
    "confusion_matrix(y_test.values.argmax(axis=1),y_pred.argmax(axis=1))"
   ]
  },
  {
   "cell_type": "code",
   "execution_count": 20,
   "metadata": {},
   "outputs": [
    {
     "name": "stdout",
     "output_type": "stream",
     "text": [
      "0.7237335267803168\n"
     ]
    }
   ],
   "source": [
    "#validating the results with Accuracy\n",
    "\n",
    "print(accuracy_score(y_test.values.argmax(axis=1),y_pred.argmax(axis=1)))"
   ]
  },
  {
   "cell_type": "code",
   "execution_count": 21,
   "metadata": {},
   "outputs": [
    {
     "name": "stdout",
     "output_type": "stream",
     "text": [
      "0.7391932578967094\n"
     ]
    }
   ],
   "source": [
    "#validating the results with F1 Score\n",
    "\n",
    "print(f1_score(y_test.values.argmax(axis=1),y_pred.argmax(axis=1),average='weighted'))"
   ]
  },
  {
   "cell_type": "code",
   "execution_count": 23,
   "metadata": {},
   "outputs": [],
   "source": [
    "# Put your new review here to validate\n",
    "new_review = '01Very oily and creamy. Not at all what I expected... ordered this to try to highlight and contour and it just looked awful!!! Plus, took FOREVER to arrive.Dont waste your money'"
   ]
  },
  {
   "cell_type": "code",
   "execution_count": 24,
   "metadata": {},
   "outputs": [],
   "source": [
    "#pre processing and converting to numeric format\n",
    "new_review = ''.join([i for i in new_review if not i.isdigit()])\n",
    "new_review = re.sub(r'[^\\w\\s]','',new_review)\n",
    "new_review=[new_review]\n",
    "new_test = transformer.transform(new_review)"
   ]
  },
  {
   "cell_type": "code",
   "execution_count": 25,
   "metadata": {},
   "outputs": [
    {
     "name": "stdout",
     "output_type": "stream",
     "text": [
      "('Predicted category for given review is:- ', 'Easy_to_Use')\n"
     ]
    }
   ],
   "source": [
    "#printing predictions\n",
    "print('Predicted category for given review is:- ',CategoryCol[model.predict(new_test).argmax(axis=1).item()])\n"
   ]
  },
  {
   "cell_type": "code",
   "execution_count": null,
   "metadata": {},
   "outputs": [],
   "source": []
  }
 ],
 "metadata": {
  "kernelspec": {
   "display_name": "Python 2",
   "language": "python",
   "name": "python2"
  },
  "language_info": {
   "codemirror_mode": {
    "name": "ipython",
    "version": 2
   },
   "file_extension": ".py",
   "mimetype": "text/x-python",
   "name": "python",
   "nbconvert_exporter": "python",
   "pygments_lexer": "ipython2",
   "version": "2.7.14"
  }
 },
 "nbformat": 4,
 "nbformat_minor": 2
}
